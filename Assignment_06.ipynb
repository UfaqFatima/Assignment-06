{
  "nbformat": 4,
  "nbformat_minor": 0,
  "metadata": {
    "colab": {
      "provenance": [],
      "authorship_tag": "ABX9TyNa0RGAXdGbzp2F7yiwj7D0",
      "include_colab_link": true
    },
    "kernelspec": {
      "name": "python3",
      "display_name": "Python 3"
    },
    "language_info": {
      "name": "python"
    }
  },
  "cells": [
    {
      "cell_type": "markdown",
      "metadata": {
        "id": "view-in-github",
        "colab_type": "text"
      },
      "source": [
        "<a href=\"https://colab.research.google.com/github/UfaqFatima/Assignment-06/blob/main/Assignment_06.ipynb\" target=\"_parent\"><img src=\"https://colab.research.google.com/assets/colab-badge.svg\" alt=\"Open In Colab\"/></a>"
      ]
    },
    {
      "cell_type": "markdown",
      "source": [
        "1. Using self Assignment: Create a class Student with attributes name and marks. Use the self keyword to initialize these values via a constructor. Add a method display() that prints student details."
      ],
      "metadata": {
        "id": "BPbtYoDE2H9o"
      }
    },
    {
      "cell_type": "code",
      "source": [
        "class Student:\n",
        "    def __init__(self, name, marks):\n",
        "        self.name = name       # Initialize name using self\n",
        "        self.marks = marks     # Initialize marks using self\n",
        "\n",
        "    def display(self):\n",
        "        print(\"Student Name:\", self.name)\n",
        "        print(\"Marks:\", self.marks)\n",
        "\n",
        "# Example usage:\n",
        "student1 = Student(\"Ufaq Fatima\", 70)\n",
        "student1.display()"
      ],
      "metadata": {
        "colab": {
          "base_uri": "https://localhost:8080/"
        },
        "id": "xppMWiAz2PwI",
        "outputId": "c42bccac-c9bc-4ace-c854-7d2ea4910e5b"
      },
      "execution_count": null,
      "outputs": [
        {
          "output_type": "stream",
          "name": "stdout",
          "text": [
            "Student Name: Ufaq Fatima\n",
            "Marks: 70\n"
          ]
        }
      ]
    },
    {
      "cell_type": "markdown",
      "source": [
        "***2. Using cls** Assignment: Create a class Counter that keeps track of how many objects have been created. Use a class variable and a class method with cls to manage and display the count."
      ],
      "metadata": {
        "id": "m-ATtirn9VBB"
      }
    },
    {
      "cell_type": "code",
      "source": [
        "class Counter:\n",
        "    # Class variable to keep track of object count\n",
        "    count = 0\n",
        "\n",
        "    def __init__(self):\n",
        "        # Increment count whenever a new object is created\n",
        "        Counter.count += 1\n",
        "\n",
        "    @classmethod\n",
        "    def display_count(cls):\n",
        "        print(f\"Total objects created: {cls.count}\")\n",
        "\n",
        "# Example usage:\n",
        "obj1 = Counter()\n",
        "obj2 = Counter()\n",
        "obj3 = Counter()\n",
        "obj4 = Counter()\n",
        "obj5 = Counter()\n",
        "# Display count using class method\n",
        "Counter.display_count()\n"
      ],
      "metadata": {
        "colab": {
          "base_uri": "https://localhost:8080/"
        },
        "id": "4DIrM-uc9WTJ",
        "outputId": "0fa41e55-7d1d-416c-d8f0-9be9c7346faf"
      },
      "execution_count": null,
      "outputs": [
        {
          "output_type": "stream",
          "name": "stdout",
          "text": [
            "Total objects created: 5\n"
          ]
        }
      ]
    },
    {
      "cell_type": "markdown",
      "source": [
        "3. Public Variables and Methods Assignment: Create a class Car with a public variable brand and a public method start(). Instantiate the class and access both from outside the class.\n",
        "\n"
      ],
      "metadata": {
        "id": "HrJAuRyK-LSY"
      }
    },
    {
      "cell_type": "code",
      "source": [
        "class Car:\n",
        "    def __init__(self, brand):\n",
        "        self.brand = brand  # public variable\n",
        "\n",
        "    def start(self):\n",
        "        print(f\"{self.brand} car has started.\")  # public method\n",
        "\n",
        "# Instantiate the class\n",
        "my_car = Car(\"Mercedes\")\n",
        "\n",
        "# Access public variable and method from outside the class\n",
        "print(\"Car Brand:\", my_car.brand)\n",
        "my_car.start()"
      ],
      "metadata": {
        "colab": {
          "base_uri": "https://localhost:8080/"
        },
        "id": "1OeEvKpA-XSQ",
        "outputId": "a892cfe4-00f9-43e1-a6b4-3679bbd05953"
      },
      "execution_count": null,
      "outputs": [
        {
          "output_type": "stream",
          "name": "stdout",
          "text": [
            "Car Brand: Mercedes\n",
            "Mercedes car has started.\n"
          ]
        }
      ]
    },
    {
      "cell_type": "markdown",
      "source": [
        "4. Class Variables and Class Methods Assignment: Create a class Bank with a class variable bank_name. Add a class method change_bank_name(cls, name) that allows changing the bank name. Show that it affects all instances.\n",
        "\n",
        "\n"
      ],
      "metadata": {
        "id": "2lrctfqA_7f0"
      }
    },
    {
      "cell_type": "code",
      "source": [
        "class Bank:\n",
        "    # Class variable shared by all instances\n",
        "    bank_name = \"Trust Bank\"\n",
        "\n",
        "    def __init__(self, customer_name):\n",
        "        self.customer_name = customer_name\n",
        "\n",
        "    @classmethod\n",
        "    def change_bank_name(cls, name):\n",
        "        cls.bank_name = name\n",
        "\n",
        "    def show_details(self):\n",
        "        print(f\"Customer: {self.customer_name}, Bank: {Bank.bank_name}\")\n",
        "\n",
        "# Create multiple instances\n",
        "cust1 = Bank(\"Ufaq\")\n",
        "cust2 = Bank(\"Abeera\")\n",
        "\n",
        "# Show initial details\n",
        "print(\"Before changing bank name:\")\n",
        "cust1.show_details()\n",
        "cust2.show_details()\n",
        "\n",
        "# Change the bank name using class method\n",
        "Bank.change_bank_name(\"Secure Bank-Al-Falah\")\n",
        "\n",
        "# Show details after bank name change\n",
        "print(\"\\nAfter changing bank name:\")\n",
        "cust1.show_details()\n",
        "cust2.show_details()"
      ],
      "metadata": {
        "colab": {
          "base_uri": "https://localhost:8080/"
        },
        "id": "ZZf5VUPaACiq",
        "outputId": "930a4554-da13-4e70-f3f4-7fdd0d355fd7"
      },
      "execution_count": null,
      "outputs": [
        {
          "output_type": "stream",
          "name": "stdout",
          "text": [
            "Before changing bank name:\n",
            "Customer: Ufaq, Bank: Trust Bank\n",
            "Customer: Abeera, Bank: Trust Bank\n",
            "\n",
            "After changing bank name:\n",
            "Customer: Ufaq, Bank: Secure Bank-Al-Falah\n",
            "Customer: Abeera, Bank: Secure Bank-Al-Falah\n"
          ]
        }
      ]
    },
    {
      "cell_type": "markdown",
      "source": [
        "5. Static Variables and Static Methods Assignment: Create a class MathUtils with a static method add(a, b) that returns the sum. No class or instance variables should be used.\n",
        "\n"
      ],
      "metadata": {
        "id": "9q3EF5UYAvuC"
      }
    },
    {
      "cell_type": "code",
      "source": [
        "class MathUtils:\n",
        "    @staticmethod\n",
        "    def add(a, b):\n",
        "        return a + b  # This line calculates and returns the sum\n",
        "\n",
        "# Example usage:\n",
        "result = MathUtils.add(40, 15)\n",
        "print(\"Sum:\", result)\n",
        "# The repeated 'return a + b' line was removed"
      ],
      "metadata": {
        "colab": {
          "base_uri": "https://localhost:8080/"
        },
        "id": "mvLsOlsiA0_g",
        "outputId": "f4d2a46b-92a3-4119-9680-e41df75e2ec3"
      },
      "execution_count": null,
      "outputs": [
        {
          "output_type": "stream",
          "name": "stdout",
          "text": [
            "Sum: 55\n"
          ]
        }
      ]
    },
    {
      "cell_type": "markdown",
      "source": [
        "6. Constructors and Destructors Assignment: Create a class Logger that prints a message when an object is created (constructor) and another message when it is destroyed (destructor).\n",
        "\n"
      ],
      "metadata": {
        "id": "y7zWhspKKJ9b"
      }
    },
    {
      "cell_type": "code",
      "source": [
        "class Logger:\n",
        "    def __init__(self):\n",
        "        print(\"Logger object created.\")\n",
        "\n",
        "    def __del__(self):\n",
        "        print(\"Logger object destroyed.\")\n",
        "\n",
        "# Example usage:\n",
        "print(\"Creating logger...\")\n",
        "log = Logger()\n",
        "\n",
        "print(\"Doing something with logger...\")\n",
        "\n",
        "# Manually deleting the object to trigger destructor\n",
        "del log\n",
        "\n",
        "print(\"End of program.\")\n"
      ],
      "metadata": {
        "colab": {
          "base_uri": "https://localhost:8080/"
        },
        "id": "6Ob83sDnKTfx",
        "outputId": "88b3304d-1a21-42ba-a42b-f3b71d030855"
      },
      "execution_count": 1,
      "outputs": [
        {
          "output_type": "stream",
          "name": "stdout",
          "text": [
            "Creating logger...\n",
            "Logger object created.\n",
            "Doing something with logger...\n",
            "Logger object destroyed.\n",
            "End of program.\n"
          ]
        }
      ]
    },
    {
      "cell_type": "markdown",
      "source": [
        "7. Access Modifiers: Public, Private, and Protected Assignment: Create a class Employee with:\n",
        "\n",
        "a public variable name,\n",
        "\n",
        "a protected variable _salary, and\n",
        "\n",
        "a private variable __ssn.\n",
        "\n",
        "Try accessing all three variables from an object of the class and document what happens."
      ],
      "metadata": {
        "id": "fBjezOaZKgjP"
      }
    },
    {
      "cell_type": "code",
      "source": [
        "class Employee:\n",
        "    def __init__(self, name, salary, ssn):\n",
        "        self.name = name        # public\n",
        "        self._salary = salary   # protected (by convention)\n",
        "        self.__ssn = ssn        # private (name mangled)\n",
        "\n",
        "# Create an instance\n",
        "emp = Employee(\"Ufaq Fatima\", 20000, \"123-45-6789\")\n",
        "\n",
        "# Accessing public variable (✓ allowed)\n",
        "print(\"Public (name):\", emp.name)\n",
        "\n",
        "# Accessing protected variable (✓ allowed but discouraged by convention)\n",
        "print(\"Protected (_salary):\", emp._salary)\n",
        "\n",
        "# Accessing private variable directly (✗ not allowed - will raise AttributeError)\n",
        "try:\n",
        "    print(\"Private (__ssn):\", emp.__ssn)\n",
        "except AttributeError as e:\n",
        "    print(\"Private (__ssn): Cannot access directly -\", e)\n",
        "\n",
        "# Accessing private variable using name mangling (✓ possible but not recommended)\n",
        "print(\"Private (__ssn via name mangling):\", emp._Employee__ssn)\n"
      ],
      "metadata": {
        "colab": {
          "base_uri": "https://localhost:8080/"
        },
        "id": "K8oFDttbKnDk",
        "outputId": "38ad1da7-d1fc-49cf-b2fd-8cde541f2ab6"
      },
      "execution_count": 2,
      "outputs": [
        {
          "output_type": "stream",
          "name": "stdout",
          "text": [
            "Public (name): Ufaq Fatima\n",
            "Protected (_salary): 20000\n",
            "Private (__ssn): Cannot access directly - 'Employee' object has no attribute '__ssn'\n",
            "Private (__ssn via name mangling): 123-45-6789\n"
          ]
        }
      ]
    },
    {
      "cell_type": "markdown",
      "source": [
        "8. The super() Function Assignment: Create a class Person with a constructor that sets the name. Inherit a class Teacher from it, add a subject field, and use super() to call the base class constructor.\n",
        "\n"
      ],
      "metadata": {
        "id": "d22eHQovLXg_"
      }
    },
    {
      "cell_type": "code",
      "source": [
        "# Base class\n",
        "class Person:\n",
        "    def __init__(self, name):\n",
        "        self.name = name\n",
        "\n",
        "# Derived class\n",
        "class Teacher(Person):\n",
        "    def __init__(self, name, subject):\n",
        "        super().__init__(name)  # Call base class constructor\n",
        "        self.subject = subject\n",
        "\n",
        "    def display(self):\n",
        "        print(f\"Name: {self.name}\")\n",
        "        print(f\"Subject: {self.subject}\")\n",
        "\n",
        "# Example usage\n",
        "teacher1 = Teacher(\"Ufaq\", \"Geography\")\n",
        "teacher1.display()\n"
      ],
      "metadata": {
        "colab": {
          "base_uri": "https://localhost:8080/"
        },
        "id": "b2CUXbedLcR4",
        "outputId": "786a506f-7fc8-4155-def0-4936e09d76ca"
      },
      "execution_count": 3,
      "outputs": [
        {
          "output_type": "stream",
          "name": "stdout",
          "text": [
            "Name: Ufaq\n",
            "Subject: Geography\n"
          ]
        }
      ]
    },
    {
      "cell_type": "markdown",
      "source": [
        "9. Abstract Classes and Methods Assignment: Use the abc module to create an abstract class Shape with an abstract method area(). Inherit a class Rectangle that implements area().\n",
        "\n"
      ],
      "metadata": {
        "id": "uvgIeMDyLneB"
      }
    },
    {
      "cell_type": "code",
      "source": [
        "from abc import ABC, abstractmethod\n",
        "\n",
        "# Abstract base class\n",
        "class Shape(ABC):\n",
        "    @abstractmethod\n",
        "    def area(self):\n",
        "        pass  # Must be implemented by subclasses\n",
        "\n",
        "# Subclass implementing the abstract method\n",
        "class Rectangle(Shape):\n",
        "    def __init__(self, width, height):\n",
        "        self.width = width\n",
        "        self.height = height\n",
        "\n",
        "    def area(self):\n",
        "        return self.width * self.height\n",
        "\n",
        "# Example usage\n",
        "rect = Rectangle(5, 10)\n",
        "print(\"Area of Rectangle:\", rect.area())"
      ],
      "metadata": {
        "colab": {
          "base_uri": "https://localhost:8080/"
        },
        "id": "iS76FwxpLrqN",
        "outputId": "7f70059f-da02-45e4-9cd4-8866c63041e5"
      },
      "execution_count": 4,
      "outputs": [
        {
          "output_type": "stream",
          "name": "stdout",
          "text": [
            "Area of Rectangle: 50\n"
          ]
        }
      ]
    },
    {
      "cell_type": "markdown",
      "source": [
        "10. Instance Methods Assignment: Create a class Dog with instance variables name and breed. Add an instance method bark() that prints a message including the dog's name.\n",
        "\n"
      ],
      "metadata": {
        "id": "wuFw1RZ3LxEP"
      }
    },
    {
      "cell_type": "code",
      "source": [
        "class Dog:\n",
        "    def __init__(self, name, breed):\n",
        "        self.name = name        # Instance variable for name\n",
        "        self.breed = breed      # Instance variable for breed\n",
        "\n",
        "    def bark(self):\n",
        "        print(f\"{self.name} says: boof boof!\")\n",
        "\n",
        "# Example usage\n",
        "dog1 = Dog(\"Scooby\", \"Golden Retriever\")\n",
        "dog1.bark()"
      ],
      "metadata": {
        "colab": {
          "base_uri": "https://localhost:8080/"
        },
        "id": "nH-cqw6SL1C9",
        "outputId": "e0778ddb-6e8c-461b-fbfe-052b78b6d48e"
      },
      "execution_count": 6,
      "outputs": [
        {
          "output_type": "stream",
          "name": "stdout",
          "text": [
            "Scooby says: boof boof!\n"
          ]
        }
      ]
    },
    {
      "cell_type": "markdown",
      "source": [
        "11. Class Methods Assignment: Create a class Book with a class variable total_books. Add a class method increment_book_count() to increase the count when a new book is added.\n",
        "\n"
      ],
      "metadata": {
        "id": "dw6r5FBrMLHq"
      }
    },
    {
      "cell_type": "code",
      "source": [
        "class Book:\n",
        "    total_books = 0  # Class variable to track total books\n",
        "\n",
        "    def __init__(self, title):\n",
        "        self.title = title\n",
        "        Book.increment_book_count()  # Increment count when a book is created\n",
        "\n",
        "    @classmethod\n",
        "    def increment_book_count(cls):\n",
        "        cls.total_books += 1\n",
        "\n",
        "    @classmethod\n",
        "    def show_total_books(cls):\n",
        "        print(f\"Total books: {cls.total_books}\")\n",
        "\n",
        "# Example usage\n",
        "book1 = Book(\"The Alchemist\")\n",
        "book2 = Book(\"1984\")\n",
        "book3 = Book(\"To Kill a Mockingbird\")\n",
        "book4 = Book(\"The Great Gatsby\")\n",
        "\n",
        "Book.show_total_books()"
      ],
      "metadata": {
        "colab": {
          "base_uri": "https://localhost:8080/"
        },
        "id": "LdvPNh1vMOsq",
        "outputId": "901cee7e-fe85-4932-aac9-557df453e015"
      },
      "execution_count": 8,
      "outputs": [
        {
          "output_type": "stream",
          "name": "stdout",
          "text": [
            "Total books: 4\n"
          ]
        }
      ]
    },
    {
      "cell_type": "markdown",
      "source": [
        "12. Static Methods Assignment: Create a class TemperatureConverter with a static method celsius_to_fahrenheit(c) that returns the Fahrenheit value.\n",
        "\n"
      ],
      "metadata": {
        "id": "pCnhjl9JMfQ7"
      }
    },
    {
      "cell_type": "code",
      "source": [
        "class TemperatureConverter:\n",
        "    @staticmethod\n",
        "    def celsius_to_fahrenheit(c):\n",
        "        return (c * 9/5) + 32\n",
        "\n",
        "# Example usage\n",
        "celsius = 35\n",
        "fahrenheit = TemperatureConverter.celsius_to_fahrenheit(celsius)\n",
        "print(f\"{celsius}°C = {fahrenheit}°F\")"
      ],
      "metadata": {
        "colab": {
          "base_uri": "https://localhost:8080/"
        },
        "id": "rUXqOla3OVAy",
        "outputId": "a3579b8a-70f8-4439-bd41-1428db570fd9"
      },
      "execution_count": 9,
      "outputs": [
        {
          "output_type": "stream",
          "name": "stdout",
          "text": [
            "35°C = 95.0°F\n"
          ]
        }
      ]
    },
    {
      "cell_type": "markdown",
      "source": [
        "13. Composition Assignment: Create a class Engine and a class Car. Use composition by passing an Engine object to the Car class during initialization. Access a method of the Engine class via the Car class.\n",
        "\n"
      ],
      "metadata": {
        "id": "Cuef-0J-OZqD"
      }
    },
    {
      "cell_type": "code",
      "source": [
        "class Engine:\n",
        "    def __init__(self, engine_type):\n",
        "        self.engine_type = engine_type\n",
        "\n",
        "    def start(self):\n",
        "        print(f\"{self.engine_type} engine started.\")\n",
        "\n",
        "class Car:\n",
        "    def __init__(self, brand, model):\n",
        "        self.brand = brand\n",
        "        self.model = model\n",
        "        self.engine = Engine(\"D4D\")  # Har car ke sath ek engine\n",
        "\n",
        "    def start_car(self):\n",
        "        print(f\"Starting {self.brand} {self.model}...\")\n",
        "        self.engine.start()\n",
        "\n",
        "# Example usage\n",
        "my_car = Car(\"Toyota\", \"Fortuner\")\n",
        "my_car.start_car()"
      ],
      "metadata": {
        "colab": {
          "base_uri": "https://localhost:8080/"
        },
        "id": "-f-1QwQIOcib",
        "outputId": "b172aab1-e07d-4543-f311-cd9bfac12b2e"
      },
      "execution_count": 10,
      "outputs": [
        {
          "output_type": "stream",
          "name": "stdout",
          "text": [
            "Starting Toyota Fortuner...\n",
            "D4D engine started.\n"
          ]
        }
      ]
    },
    {
      "cell_type": "markdown",
      "source": [
        "14. Aggregation Assignment: Create a class Department and a class Employee. Use aggregation by having a Department object store a reference to an Employee object that exists independently of it.\n",
        "\n"
      ],
      "metadata": {
        "id": "czNkil7nOnvK"
      }
    },
    {
      "cell_type": "code",
      "source": [
        "# Employee class\n",
        "class Employee:\n",
        "    def __init__(self, name, emp_id):\n",
        "        self.name = name\n",
        "        self.emp_id = emp_id\n",
        "\n",
        "    def show_details(self):\n",
        "        print(f\"Employee Name: {self.name}, ID: {self.emp_id}\")\n",
        "\n",
        "# Department class using aggregation\n",
        "class Department:\n",
        "    def __init__(self, dept_name, employee):\n",
        "        self.dept_name = dept_name\n",
        "        self.employee = employee  # Reference to an existing Employee object\n",
        "\n",
        "    def show_department(self):\n",
        "        print(f\"Department: {self.dept_name}\")\n",
        "        self.employee.show_details()  # Access employee's method\n",
        "\n",
        "# Example usage\n",
        "emp1 = Employee(\"Ufaq\", 50)  # Employee created independently\n",
        "dept1 = Department(\"HR\", emp1)  # Aggregation: Department refers to existing Employee\n",
        "\n",
        "dept1.show_department()"
      ],
      "metadata": {
        "colab": {
          "base_uri": "https://localhost:8080/"
        },
        "id": "Y0mWyDi9Osvr",
        "outputId": "7cf577a2-9c55-4ab8-ae65-7f826c3ef5c3"
      },
      "execution_count": 12,
      "outputs": [
        {
          "output_type": "stream",
          "name": "stdout",
          "text": [
            "Department: HR\n",
            "Employee Name: Ufaq, ID: 50\n"
          ]
        }
      ]
    },
    {
      "cell_type": "markdown",
      "source": [
        "15. Method Resolution Order (MRO) and Diamond Inheritance Assignment: Create four classes:\n",
        "\n",
        "A with a method show(),\n",
        "\n",
        "B and C that inherit from A and override show(),\n",
        "\n",
        "D that inherits from both B and C.\n",
        "\n",
        "Create an object of D and call show() to observe MRO.\n",
        "\n"
      ],
      "metadata": {
        "id": "prbWKldcO5WF"
      }
    },
    {
      "cell_type": "code",
      "source": [
        "class A:\n",
        "    def show(self):\n",
        "        print(\"A's show() method\")\n",
        "\n",
        "class B(A):\n",
        "    def show(self):\n",
        "        print(\"B's show() method\")\n",
        "\n",
        "class C(A):\n",
        "    def show(self):\n",
        "        print(\"C's show() method\")\n",
        "\n",
        "class D(B, C):  # Inherits from B and C\n",
        "    pass\n",
        "\n",
        "# Create object of D and call show()\n",
        "d = D()\n",
        "d.show()\n",
        "\n",
        "# Print the MRO\n",
        "print(D.__mro__)"
      ],
      "metadata": {
        "colab": {
          "base_uri": "https://localhost:8080/"
        },
        "id": "svX2bVLKO9z5",
        "outputId": "9504e5c4-d086-4aa7-91b3-a4ad19ddfbf2"
      },
      "execution_count": 13,
      "outputs": [
        {
          "output_type": "stream",
          "name": "stdout",
          "text": [
            "B's show() method\n",
            "(<class '__main__.D'>, <class '__main__.B'>, <class '__main__.C'>, <class '__main__.A'>, <class 'object'>)\n"
          ]
        }
      ]
    },
    {
      "cell_type": "markdown",
      "source": [
        "16. Function Decorators Assignment: Write a decorator function log_function_call that prints \"Function is being called\" before a function executes. Apply it to a function say_hello().\n",
        "\n"
      ],
      "metadata": {
        "id": "drkYqJOKPCla"
      }
    },
    {
      "cell_type": "code",
      "source": [
        "# Decorator function\n",
        "def log_function_call(func):\n",
        "    def wrapper(*args, **kwargs):\n",
        "        print(\"Function is being called\")\n",
        "        return func(*args, **kwargs)\n",
        "    return wrapper\n",
        "\n",
        "# Apply decorator to say_hello()\n",
        "@log_function_call\n",
        "def say_hello():\n",
        "    print(\"Ufaq is here!\")\n",
        "\n",
        "# Call the function\n",
        "say_hello()\n"
      ],
      "metadata": {
        "colab": {
          "base_uri": "https://localhost:8080/"
        },
        "id": "VpLM9DxHPFqn",
        "outputId": "df665d15-1647-4a1a-b98b-7ca0864096d6"
      },
      "execution_count": 14,
      "outputs": [
        {
          "output_type": "stream",
          "name": "stdout",
          "text": [
            "Function is being called\n",
            "Ufaq is here!\n"
          ]
        }
      ]
    },
    {
      "cell_type": "markdown",
      "source": [
        "17. Class Decorators Assignment: Create a class decorator add_greeting that modifies a class to add a greet() method returning \"Hello from Decorator!\". Apply it to a class Person.\n",
        "\n"
      ],
      "metadata": {
        "id": "5bsqW0q9PR1L"
      }
    },
    {
      "cell_type": "code",
      "source": [
        "# Class decorator\n",
        "def add_greeting(cls):\n",
        "    def greet(self):\n",
        "        return \"Hello from Chief Officer!\"\n",
        "    cls.greet = greet\n",
        "    return cls\n",
        "\n",
        "# Apply decorator to the class\n",
        "@add_greeting\n",
        "class Person:\n",
        "    def __init__(self, name):\n",
        "        self.name = name\n",
        "\n",
        "# Example usage\n",
        "p = Person(\"Shah\")\n",
        "print(p.greet())\n"
      ],
      "metadata": {
        "colab": {
          "base_uri": "https://localhost:8080/"
        },
        "id": "80uT_5odPVVg",
        "outputId": "e02a61e0-14ba-48e2-9d60-16f302996b79"
      },
      "execution_count": 15,
      "outputs": [
        {
          "output_type": "stream",
          "name": "stdout",
          "text": [
            "Hello from Chief Officer!\n"
          ]
        }
      ]
    },
    {
      "cell_type": "markdown",
      "source": [
        "18. Property Decorators: @property, @setter, and @deleter Assignment: Create a class Product with a private attribute _price. Use @property to get the price, @price.setter to update it, and @price.deleter to delete it.\n",
        "\n"
      ],
      "metadata": {
        "id": "IkY91A19Psil"
      }
    },
    {
      "cell_type": "code",
      "source": [
        "class Product:\n",
        "    def __init__(self, name, price):\n",
        "        self._name = name\n",
        "        self._price = price\n",
        "\n",
        "    # Getter method for name\n",
        "    @property\n",
        "    def name(self):\n",
        "        return self._name\n",
        "\n",
        "    # Setter method for name\n",
        "    @name.setter\n",
        "    def name(self, value):\n",
        "        self._name = value\n",
        "\n",
        "    # Getter method for price\n",
        "    @property\n",
        "    def price(self):\n",
        "        return self._price\n",
        "\n",
        "    # Setter method for price\n",
        "    @price.setter\n",
        "    def price(self, value):\n",
        "        if value < 0:\n",
        "            raise ValueError(\"Price cannot be negative.\")\n",
        "        self._price = value\n",
        "\n",
        "    # Deleter method for price\n",
        "    @price.deleter\n",
        "    def price(self):\n",
        "        print(\"Deleting price...\")\n",
        "        del self._price\n",
        "\n",
        "# Example usage:\n",
        "product = Product(\"Laptop\", 100000)\n",
        "print(f\"Product Name: {product.name}, Price: {product.price}\")  # Getting the name and price\n",
        "\n",
        "product.name = \"Smartphone\"  # Setting the product name\n",
        "product.price = 20000          # Setting the price\n",
        "print(f\"Updated Product: {product.name}, Price: {product.price}\")\n",
        "\n",
        "del product.price  # Deleting the price\n"
      ],
      "metadata": {
        "colab": {
          "base_uri": "https://localhost:8080/"
        },
        "id": "zPQHySzFPvdR",
        "outputId": "8299d713-1805-4ed1-b35b-5ae0ddfe17cf"
      },
      "execution_count": 16,
      "outputs": [
        {
          "output_type": "stream",
          "name": "stdout",
          "text": [
            "Product Name: Laptop, Price: 100000\n",
            "Updated Product: Smartphone, Price: 20000\n",
            "Deleting price...\n"
          ]
        }
      ]
    },
    {
      "cell_type": "markdown",
      "source": [
        "19. callable() and __call__() Assignment: Create a class Multiplier with an init() to set a factor. Define a call() method that multiplies an input by the factor. Test it with callable() and by calling the object like a function.\n",
        "\n"
      ],
      "metadata": {
        "id": "tSg2Ja1okSR8"
      }
    },
    {
      "cell_type": "code",
      "source": [
        "class Multiplier:\n",
        "    def __init__(self, factor):\n",
        "        self.factor = factor\n",
        "\n",
        "    def __call__(self, value):\n",
        "        return value * self.factor\n",
        "\n",
        "# Example usage:\n",
        "m = Multiplier(5)\n",
        "\n",
        "# Test if the object is callable\n",
        "print(callable(m))  # Output: True\n",
        "\n",
        "# Call the object like a function\n",
        "result = m(30)\n",
        "print(f\"30 multiplied by factor 5 is: {result}\")  # Output: 150\n",
        "\n",
        ""
      ],
      "metadata": {
        "colab": {
          "base_uri": "https://localhost:8080/"
        },
        "id": "EGAV5o4ZkWWT",
        "outputId": "8177927f-8ad2-4f1d-b2c4-5c3eef6138d6"
      },
      "execution_count": 1,
      "outputs": [
        {
          "output_type": "stream",
          "name": "stdout",
          "text": [
            "True\n",
            "30 multiplied by factor 5 is: 150\n"
          ]
        }
      ]
    },
    {
      "cell_type": "markdown",
      "source": [
        "20. Creating a Custom Exception Assignment: Create a custom exception InvalidAgeError. Write a function check_age(age) that raises this exception if age < 18. Handle it with try...except.\n",
        "\n"
      ],
      "metadata": {
        "id": "fxTxP_fZlET4"
      }
    },
    {
      "cell_type": "code",
      "source": [
        "# Custom exception class\n",
        "class InvalidAgeError(Exception):\n",
        "    def __init__(self, message=\"Age must be 18 or above.\"):\n",
        "        super().__init__(message)\n",
        "\n",
        "# Function to check age\n",
        "def check_age(age):\n",
        "    if age < 18:\n",
        "        raise InvalidAgeError(f\"Invalid age: {age}. You must be at least 18 years old.\")\n",
        "    print(\"Age is valid. Access granted.\")\n",
        "\n",
        "# Example usage\n",
        "try:\n",
        "    user_age = int(input(\"Enter your age: \"))\n",
        "    check_age(user_age)\n",
        "except InvalidAgeError as e:\n",
        "    print(\"Error:\", e)\n"
      ],
      "metadata": {
        "colab": {
          "base_uri": "https://localhost:8080/"
        },
        "id": "OwrqMpJllI-a",
        "outputId": "37b3f83d-39da-4398-e297-d2d5b547fd02"
      },
      "execution_count": 2,
      "outputs": [
        {
          "output_type": "stream",
          "name": "stdout",
          "text": [
            "Enter your age: 22\n",
            "Age is valid. Access granted.\n"
          ]
        }
      ]
    },
    {
      "cell_type": "markdown",
      "source": [
        "21. Make a Custom Class Iterable Assignment: Create a class Countdown that takes a start number. Implement iter() and next() to make the object iterable in a for-loop, counting down to 0.\n",
        "\n"
      ],
      "metadata": {
        "id": "qbPDEUMllV_R"
      }
    },
    {
      "cell_type": "code",
      "source": [
        "class Countdown:\n",
        "    def __init__(self, start):\n",
        "        self.current = start\n",
        "\n",
        "    def __iter__(self):\n",
        "        return self  # The object itself is the iterator\n",
        "\n",
        "    def __next__(self):\n",
        "        if self.current < 0:\n",
        "            raise StopIteration  # Stop when countdown is below 0\n",
        "        value = self.current\n",
        "        self.current -= 1\n",
        "        return value\n",
        "\n",
        "# Example usage:\n",
        "for number in Countdown(10):\n",
        "    print(number)"
      ],
      "metadata": {
        "colab": {
          "base_uri": "https://localhost:8080/"
        },
        "id": "RTkmSB5ZlYwP",
        "outputId": "5eeb68d9-44f9-4796-fb95-a4fa5c2d7154"
      },
      "execution_count": 4,
      "outputs": [
        {
          "output_type": "stream",
          "name": "stdout",
          "text": [
            "10\n",
            "9\n",
            "8\n",
            "7\n",
            "6\n",
            "5\n",
            "4\n",
            "3\n",
            "2\n",
            "1\n",
            "0\n"
          ]
        }
      ]
    }
  ]
}